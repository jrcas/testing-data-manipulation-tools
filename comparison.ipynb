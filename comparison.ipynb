{
 "cells": [
  {
   "cell_type": "code",
   "execution_count": null,
   "metadata": {},
   "outputs": [],
   "source": [
    "import glob\n",
    "import os\n",
    "import pandas as pd\n",
    "import polars as pl\n",
    "from pyspark.sql import SparkSession\n",
    "from pyspark.sql import functions as F\n",
    "\n",
    "data_dir = \"output_data\"\n",
    "\n",
    "os.makedirs(f\"{data_dir}\", exist_ok=True)\n",
    "\n",
    "folder_path = \"data/*.parquet\"\n",
    "file_paths = glob.glob(folder_path)"
   ]
  },
  {
   "cell_type": "code",
   "execution_count": 2,
   "metadata": {},
   "outputs": [
    {
     "name": "stdout",
     "output_type": "stream",
     "text": [
      "453 ms ± 58.4 ms per loop (mean ± std. dev. of 7 runs, 1 loop each)\n"
     ]
    }
   ],
   "source": [
    "%%timeit\n",
    "\n",
    "df = pl.scan_parquet(folder_path)\\\n",
    "    .group_by([\"VendorID\"])\\\n",
    "    .agg([\n",
    "        pl.col(\"passenger_count\").sum().alias(\"total_passengers\"),\n",
    "        pl.col(\"total_amount\").mean().alias(\"avg_total\"),\n",
    "        pl.col(\"trip_distance\").mean().alias(\"avg_trip_distance\")\n",
    "    ]).collect()\n",
    "df.write_parquet(f'{data_dir}/temp_polars.parquet')"
   ]
  },
  {
   "cell_type": "code",
   "execution_count": 3,
   "metadata": {},
   "outputs": [
    {
     "name": "stdout",
     "output_type": "stream",
     "text": [
      "6.12 s ± 107 ms per loop (mean ± std. dev. of 7 runs, 1 loop each)\n"
     ]
    }
   ],
   "source": [
    "%%timeit\n",
    "\n",
    "df = pd.concat([pd.read_parquet(file) for file in file_paths], ignore_index=True)\n",
    "df_agg = df.groupby(\"VendorID\")[[\"passenger_count\", \"total_amount\", \"trip_distance\"]].agg(\n",
    "    total_passengers=(\"passenger_count\", \"sum\"),\n",
    "    avg_total=(\"total_amount\", \"mean\"),\n",
    "    avg_trip_distance=(\"trip_distance\", \"mean\"),\n",
    ")\n",
    "df_agg = df_agg.reset_index()\n",
    "df_agg.to_parquet(f\"{data_dir}/temp_pandas.parquet\")"
   ]
  },
  {
   "cell_type": "code",
   "execution_count": 4,
   "metadata": {},
   "outputs": [],
   "source": [
    "spark = SparkSession.builder.master(\"local[1]\").appName('taxi-example').getOrCreate()"
   ]
  },
  {
   "cell_type": "code",
   "execution_count": 5,
   "metadata": {},
   "outputs": [
    {
     "name": "stdout",
     "output_type": "stream",
     "text": [
      "513 ms ± 57.7 ms per loop (mean ± std. dev. of 7 runs, 1 loop each)\n"
     ]
    }
   ],
   "source": [
    "%%timeit\n",
    "\n",
    "df = spark.read.parquet(file_paths[0])\n",
    "df = df.groupBy(\"VendorID\").agg(\n",
    "    F.sum(\"passenger_count\").alias(\"total_passengers\"),\n",
    "    F.mean(\"total_amount\").alias(\"avg_total\"),\n",
    "    F.mean(\"trip_distance\").alias(\"avg_trip_distance\")\n",
    ").na.fill({\"total_passengers\": 0})\n",
    "df.write.mode('overwrite').parquet(f'{data_dir}/temp_spark.parquet')"
   ]
  },
  {
   "cell_type": "code",
   "execution_count": 6,
   "metadata": {},
   "outputs": [],
   "source": [
    "agg_pandas = pd.read_parquet(f\"{data_dir}/temp_pandas.parquet\")\n",
    "agg_polars = pd.read_parquet(f\"{data_dir}/temp_polars.parquet\")\n",
    "agg_spark = pd.read_parquet(f\"{data_dir}/temp_spark.parquet\")"
   ]
  },
  {
   "cell_type": "code",
   "execution_count": 7,
   "metadata": {},
   "outputs": [
    {
     "data": {
      "text/plain": [
       "((4, 4), (4, 4), (4, 4))"
      ]
     },
     "execution_count": 7,
     "metadata": {},
     "output_type": "execute_result"
    }
   ],
   "source": [
    "agg_pandas.shape, agg_polars.shape, agg_spark.shape"
   ]
  },
  {
   "cell_type": "code",
   "execution_count": 8,
   "metadata": {},
   "outputs": [
    {
     "data": {
      "text/html": [
       "<div>\n",
       "<style scoped>\n",
       "    .dataframe tbody tr th:only-of-type {\n",
       "        vertical-align: middle;\n",
       "    }\n",
       "\n",
       "    .dataframe tbody tr th {\n",
       "        vertical-align: top;\n",
       "    }\n",
       "\n",
       "    .dataframe thead th {\n",
       "        text-align: right;\n",
       "    }\n",
       "</style>\n",
       "<table border=\"1\" class=\"dataframe\">\n",
       "  <thead>\n",
       "    <tr style=\"text-align: right;\">\n",
       "      <th></th>\n",
       "      <th>VendorID</th>\n",
       "      <th>total_passengers</th>\n",
       "      <th>avg_total</th>\n",
       "      <th>avg_trip_distance</th>\n",
       "    </tr>\n",
       "  </thead>\n",
       "  <tbody>\n",
       "    <tr>\n",
       "      <th>0</th>\n",
       "      <td>1</td>\n",
       "      <td>13536686.0</td>\n",
       "      <td>20.904553</td>\n",
       "      <td>3.248677</td>\n",
       "    </tr>\n",
       "    <tr>\n",
       "      <th>1</th>\n",
       "      <td>2</td>\n",
       "      <td>40110228.0</td>\n",
       "      <td>21.923248</td>\n",
       "      <td>7.031941</td>\n",
       "    </tr>\n",
       "    <tr>\n",
       "      <th>2</th>\n",
       "      <td>5</td>\n",
       "      <td>0.0</td>\n",
       "      <td>69.756713</td>\n",
       "      <td>14.742867</td>\n",
       "    </tr>\n",
       "    <tr>\n",
       "      <th>3</th>\n",
       "      <td>6</td>\n",
       "      <td>0.0</td>\n",
       "      <td>46.795499</td>\n",
       "      <td>8.835186</td>\n",
       "    </tr>\n",
       "  </tbody>\n",
       "</table>\n",
       "</div>"
      ],
      "text/plain": [
       "   VendorID  total_passengers  avg_total  avg_trip_distance\n",
       "0         1        13536686.0  20.904553           3.248677\n",
       "1         2        40110228.0  21.923248           7.031941\n",
       "2         5               0.0  69.756713          14.742867\n",
       "3         6               0.0  46.795499           8.835186"
      ]
     },
     "execution_count": 8,
     "metadata": {},
     "output_type": "execute_result"
    }
   ],
   "source": [
    "agg_pandas.sort_values([\"VendorID\"]).head()"
   ]
  },
  {
   "cell_type": "code",
   "execution_count": 9,
   "metadata": {},
   "outputs": [
    {
     "data": {
      "text/html": [
       "<div>\n",
       "<style scoped>\n",
       "    .dataframe tbody tr th:only-of-type {\n",
       "        vertical-align: middle;\n",
       "    }\n",
       "\n",
       "    .dataframe tbody tr th {\n",
       "        vertical-align: top;\n",
       "    }\n",
       "\n",
       "    .dataframe thead th {\n",
       "        text-align: right;\n",
       "    }\n",
       "</style>\n",
       "<table border=\"1\" class=\"dataframe\">\n",
       "  <thead>\n",
       "    <tr style=\"text-align: right;\">\n",
       "      <th></th>\n",
       "      <th>VendorID</th>\n",
       "      <th>total_passengers</th>\n",
       "      <th>avg_total</th>\n",
       "      <th>avg_trip_distance</th>\n",
       "    </tr>\n",
       "  </thead>\n",
       "  <tbody>\n",
       "    <tr>\n",
       "      <th>0</th>\n",
       "      <td>1</td>\n",
       "      <td>13536686.0</td>\n",
       "      <td>20.904553</td>\n",
       "      <td>3.248677</td>\n",
       "    </tr>\n",
       "    <tr>\n",
       "      <th>1</th>\n",
       "      <td>2</td>\n",
       "      <td>40110228.0</td>\n",
       "      <td>21.923248</td>\n",
       "      <td>7.031941</td>\n",
       "    </tr>\n",
       "    <tr>\n",
       "      <th>2</th>\n",
       "      <td>5</td>\n",
       "      <td>0.0</td>\n",
       "      <td>69.756713</td>\n",
       "      <td>14.742867</td>\n",
       "    </tr>\n",
       "    <tr>\n",
       "      <th>3</th>\n",
       "      <td>6</td>\n",
       "      <td>0.0</td>\n",
       "      <td>46.795499</td>\n",
       "      <td>8.835186</td>\n",
       "    </tr>\n",
       "  </tbody>\n",
       "</table>\n",
       "</div>"
      ],
      "text/plain": [
       "   VendorID  total_passengers  avg_total  avg_trip_distance\n",
       "0         1        13536686.0  20.904553           3.248677\n",
       "1         2        40110228.0  21.923248           7.031941\n",
       "2         5               0.0  69.756713          14.742867\n",
       "3         6               0.0  46.795499           8.835186"
      ]
     },
     "execution_count": 9,
     "metadata": {},
     "output_type": "execute_result"
    }
   ],
   "source": [
    "agg_polars.sort_values([\"VendorID\"]).head()"
   ]
  },
  {
   "cell_type": "code",
   "execution_count": 10,
   "metadata": {},
   "outputs": [
    {
     "data": {
      "text/html": [
       "<div>\n",
       "<style scoped>\n",
       "    .dataframe tbody tr th:only-of-type {\n",
       "        vertical-align: middle;\n",
       "    }\n",
       "\n",
       "    .dataframe tbody tr th {\n",
       "        vertical-align: top;\n",
       "    }\n",
       "\n",
       "    .dataframe thead th {\n",
       "        text-align: right;\n",
       "    }\n",
       "</style>\n",
       "<table border=\"1\" class=\"dataframe\">\n",
       "  <thead>\n",
       "    <tr style=\"text-align: right;\">\n",
       "      <th></th>\n",
       "      <th>VendorID</th>\n",
       "      <th>total_passengers</th>\n",
       "      <th>avg_total</th>\n",
       "      <th>avg_trip_distance</th>\n",
       "    </tr>\n",
       "  </thead>\n",
       "  <tbody>\n",
       "    <tr>\n",
       "      <th>2</th>\n",
       "      <td>1</td>\n",
       "      <td>856427.0</td>\n",
       "      <td>19.253229</td>\n",
       "      <td>2.987275</td>\n",
       "    </tr>\n",
       "    <tr>\n",
       "      <th>3</th>\n",
       "      <td>2</td>\n",
       "      <td>2467740.0</td>\n",
       "      <td>19.070821</td>\n",
       "      <td>6.395030</td>\n",
       "    </tr>\n",
       "    <tr>\n",
       "      <th>1</th>\n",
       "      <td>5</td>\n",
       "      <td>0.0</td>\n",
       "      <td>59.997778</td>\n",
       "      <td>14.911111</td>\n",
       "    </tr>\n",
       "    <tr>\n",
       "      <th>0</th>\n",
       "      <td>6</td>\n",
       "      <td>0.0</td>\n",
       "      <td>38.115932</td>\n",
       "      <td>8.256171</td>\n",
       "    </tr>\n",
       "  </tbody>\n",
       "</table>\n",
       "</div>"
      ],
      "text/plain": [
       "   VendorID  total_passengers  avg_total  avg_trip_distance\n",
       "2         1          856427.0  19.253229           2.987275\n",
       "3         2         2467740.0  19.070821           6.395030\n",
       "1         5               0.0  59.997778          14.911111\n",
       "0         6               0.0  38.115932           8.256171"
      ]
     },
     "execution_count": 10,
     "metadata": {},
     "output_type": "execute_result"
    }
   ],
   "source": [
    "agg_spark.sort_values([\"VendorID\"]).head()"
   ]
  }
 ],
 "metadata": {
  "kernelspec": {
   "display_name": ".venv",
   "language": "python",
   "name": "python3"
  },
  "language_info": {
   "codemirror_mode": {
    "name": "ipython",
    "version": 3
   },
   "file_extension": ".py",
   "mimetype": "text/x-python",
   "name": "python",
   "nbconvert_exporter": "python",
   "pygments_lexer": "ipython3",
   "version": "3.11.8"
  }
 },
 "nbformat": 4,
 "nbformat_minor": 2
}
